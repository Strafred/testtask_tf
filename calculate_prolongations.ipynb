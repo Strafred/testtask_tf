{
 "cells": [
  {
   "metadata": {
    "ExecuteTime": {
     "end_time": "2025-04-06T19:04:59.236678Z",
     "start_time": "2025-04-06T19:04:59.198274Z"
    }
   },
   "cell_type": "code",
   "source": [
    "import pandas as pd\n",
    "\n",
    "prolongations = pd.read_csv('prolongations.csv')\n",
    "financial_data = pd.read_csv('financial_data.csv')\n",
    "\n",
    "financial_data.replace('\\xa0', '', regex=True, inplace=True)\n",
    "financial_data.replace(',', '.', regex=True, inplace=True)"
   ],
   "id": "546f2f57556546b9",
   "outputs": [],
   "execution_count": 83
  },
  {
   "metadata": {
    "ExecuteTime": {
     "end_time": "2025-04-06T19:04:59.249231Z",
     "start_time": "2025-04-06T19:04:59.243664Z"
    }
   },
   "cell_type": "code",
   "source": "managers = prolongations[\"AM\"].unique()",
   "id": "278f8a60de0700a6",
   "outputs": [],
   "execution_count": 84
  },
  {
   "metadata": {
    "ExecuteTime": {
     "end_time": "2025-04-06T19:04:59.329477Z",
     "start_time": "2025-04-06T19:04:59.324082Z"
    }
   },
   "cell_type": "code",
   "source": [
    "all_months = ['ноябрь 2022', 'декабрь 2022', 'январь 2023', 'февраль 2023',\n",
    "              'март 2023', 'апрель 2023', 'май 2023', 'июнь 2023', 'июль 2023',\n",
    "              'август 2023', 'сентябрь 2023', 'октябрь 2023', 'ноябрь 2023',\n",
    "              'декабрь 2023', 'январь 2024', 'февраль 2024']\n",
    "\n",
    "months_to_calc_prolongation = ['январь 2023', 'февраль 2023', 'март 2023', 'апрель 2023',\n",
    "                  'май 2023', 'июнь 2023', 'июль 2023', 'август 2023',\n",
    "                  'сентябрь 2023', 'октябрь 2023', 'ноябрь 2023', 'декабрь 2023']"
   ],
   "id": "a5bca070872bc22e",
   "outputs": [],
   "execution_count": 85
  },
  {
   "metadata": {
    "ExecuteTime": {
     "end_time": "2025-04-06T19:04:59.408649Z",
     "start_time": "2025-04-06T19:04:59.403651Z"
    }
   },
   "cell_type": "code",
   "source": [
    "# для начала посчитаем коэффициенты пролонгации для каждого менеджера:\n",
    "# 1) за каждый месяц (2023 год)\n",
    "# 2) за год (2023 год)"
   ],
   "id": "c44ed9e8945ad5cb",
   "outputs": [],
   "execution_count": 86
  },
  {
   "metadata": {
    "ExecuteTime": {
     "end_time": "2025-04-06T19:04:59.488653Z",
     "start_time": "2025-04-06T19:04:59.483653Z"
    }
   },
   "cell_type": "code",
   "source": "managers_prolongations = {}",
   "id": "a985777972cb7f50",
   "outputs": [],
   "execution_count": 87
  },
  {
   "metadata": {
    "ExecuteTime": {
     "end_time": "2025-04-06T19:04:59.571310Z",
     "start_time": "2025-04-06T19:04:59.563949Z"
    }
   },
   "cell_type": "code",
   "source": [
    "def capitalize_first_letter(string):\n",
    "    return string[0].upper() + string[1:]\n",
    "\n",
    "def replace_zeros_with_previous(df):\n",
    "    for index, row in df.iterrows():\n",
    "        previous_value = None\n",
    "        for column in df.columns[1:]:\n",
    "            if row[column] != 0:\n",
    "                previous_value = row[column]\n",
    "            elif row[column] == 0 and previous_value is not None:\n",
    "                df.at[index, column] = previous_value\n",
    "    \n",
    "    return df\n",
    "\n",
    "def remove_rows_with_zeros(df):\n",
    "    return df[~df.apply(lambda row: (row == 0).any(), axis=1)]"
   ],
   "id": "c1c590b31a7b608c",
   "outputs": [],
   "execution_count": 88
  },
  {
   "metadata": {
    "ExecuteTime": {
     "end_time": "2025-04-06T19:04:59.657343Z",
     "start_time": "2025-04-06T19:04:59.646887Z"
    }
   },
   "cell_type": "code",
   "source": [
    "def delete_stopped_projects(projects_financial_data, prolongation_month_index):\n",
    "    to_drop = []\n",
    "\n",
    "    for _, project in projects_financial_data.iterrows():\n",
    "        for check_month in range(0, prolongation_month_index + 1):\n",
    "            status = project[capitalize_first_letter(all_months[check_month])]\n",
    "            if status in [\"стоп\", \"end\"]:\n",
    "                to_drop.append(project.name)\n",
    "                break\n",
    "\n",
    "    projects_financial_data = projects_financial_data.drop(index=to_drop, inplace=False)\n",
    "    return projects_financial_data\n",
    "\n",
    "def process_financial_data(completed_projects, financial_data, prolongation_month_index):\n",
    "    ids = completed_projects['id'].unique()\n",
    "    projects_financial_data = financial_data[financial_data['id'].isin(ids)].copy()\n",
    "    projects_financial_data = delete_stopped_projects(projects_financial_data, prolongation_month_index)\n",
    "\n",
    "    required_months = all_months[0: prolongation_month_index + 1]\n",
    "    required_months = [capitalize_first_letter(month) for month in required_months]\n",
    "    required_months = ['id'] + required_months\n",
    "\n",
    "    projects_financial_data = projects_financial_data[required_months]\n",
    "    projects_financial_data = projects_financial_data.replace(\"в ноль\", 0)\n",
    "    projects_financial_data = projects_financial_data.replace(\"NaN\", np.nan)\n",
    "    projects_financial_data = projects_financial_data.apply(pd.to_numeric, errors='coerce')\n",
    "\n",
    "    projects_financial_data_grouped = projects_financial_data.groupby('id').sum(min_count=1)\n",
    "    projects_financial_data_grouped = replace_zeros_with_previous(projects_financial_data_grouped)\n",
    "    projects_financial_data_grouped = remove_rows_with_zeros(projects_financial_data_grouped)\n",
    "\n",
    "    return projects_financial_data_grouped"
   ],
   "id": "20d26553c9cff089",
   "outputs": [],
   "execution_count": 89
  },
  {
   "metadata": {
    "ExecuteTime": {
     "end_time": "2025-04-06T19:04:59.741171Z",
     "start_time": "2025-04-06T19:04:59.733374Z"
    }
   },
   "cell_type": "code",
   "source": [
    "# k2 up = сумма отгрузки всех проектов пролонгированных во второй месяц после завершения, например сумма отгрузки тех проектов, завершившихся в марте, у которых нет отгрузки в апреле, но есть в мае (за май).\n",
    "# k2 down = сумма отгрузки последнего месяца проектов не пролонгированных в первый, например сумма отгрузки проектов, завершившихся в марте, у которых нет отгрузки в апреле (за март)\n",
    "\n",
    "def calculate_k2_sums(projects_financial_data_grouped, month0, month1, prolongation_month):\n",
    "    k2_up_sum = 0\n",
    "    k2_down_sum = 0\n",
    "\n",
    "    for index, row in projects_financial_data_grouped.iterrows():\n",
    "        if pd.isna(row[capitalize_first_letter(month1)]) and row[capitalize_first_letter(prolongation_month)] > 0 and row[capitalize_first_letter(month0)] > 0:\n",
    "            k2_up_sum += row[capitalize_first_letter(prolongation_month)]\n",
    "        if pd.isna(row[capitalize_first_letter(month1)]) and row[capitalize_first_letter(month0)] > 0:\n",
    "            k2_down_sum += row[capitalize_first_letter(month0)]\n",
    "\n",
    "    return k2_up_sum, k2_down_sum"
   ],
   "id": "dae0c515a6f10d7f",
   "outputs": [],
   "execution_count": 90
  },
  {
   "metadata": {
    "ExecuteTime": {
     "end_time": "2025-04-06T19:04:59.823942Z",
     "start_time": "2025-04-06T19:04:59.817503Z"
    }
   },
   "cell_type": "code",
   "source": [
    "# k1 up = сумма отгрузки всех проектов пролонгированных в первый месяц после завершения, например сумма отгрузки тех проектов завершившихся в апреле, у которых есть отгрузка в мае (за май)\n",
    "# k1 down = сумма отгрузки последнего месяца реализации всех завершившихся в прошлом месяце проектов, например сумма отгрузки проектов, завершившихся в апреле (за апрель)\n",
    "\n",
    "def calculate_k1_sums(projects_financial_data_grouped, month1, prolongation_month):\n",
    "    k1_up_sum = 0\n",
    "    k1_down_sum = 0\n",
    "\n",
    "    for index, row in projects_financial_data_grouped.iterrows():\n",
    "        if row[capitalize_first_letter(month1)] > 0 and row[capitalize_first_letter(prolongation_month)] > 0:\n",
    "            k1_up_sum += row[capitalize_first_letter(prolongation_month)]\n",
    "        if row[capitalize_first_letter(month1)] > 0:\n",
    "            k1_down_sum += row[capitalize_first_letter(month1)]\n",
    "            \n",
    "    return k1_up_sum, k1_down_sum"
   ],
   "id": "ba0eb0ef4643f61c",
   "outputs": [],
   "execution_count": 91
  },
  {
   "metadata": {
    "ExecuteTime": {
     "end_time": "2025-04-06T19:05:01.435564Z",
     "start_time": "2025-04-06T19:04:59.901609Z"
    }
   },
   "cell_type": "code",
   "source": [
    "import numpy as np\n",
    "\n",
    "for manager in managers:\n",
    "    k1_up_sum_year = 0\n",
    "    k1_down_sum_year = 0\n",
    "    k2_up_sum_year = 0\n",
    "    k2_down_sum_year = 0\n",
    "    \n",
    "    for prolongation_month in months_to_calc_prolongation:\n",
    "        prolongation_month_index = all_months.index(prolongation_month)\n",
    "        month0_index = all_months.index(prolongation_month) - 2\n",
    "        month1_index = all_months.index(prolongation_month) - 1\n",
    "        month0 = all_months[month0_index]\n",
    "        month1 = all_months[month1_index]\n",
    "\n",
    "        manager_completed_projects = prolongations[prolongations['AM'] == manager]\n",
    "        \n",
    "        month0_completed_projects = manager_completed_projects[manager_completed_projects['month'] == month0]\n",
    "        month1_completed_projects = manager_completed_projects[manager_completed_projects['month'] == month1]\n",
    "\n",
    "        \n",
    "        # СЧИТАЕМ ПРОЕКТЫ, ЗАВЕРШЕННЫЕ В МЕСЯЦЕ 0 (КОЭФФИЦИЕНТ K2)\n",
    "        projects_financial_data_grouped = process_financial_data(month0_completed_projects, financial_data, prolongation_month_index)\n",
    "        \n",
    "        k2_up_sum, k2_down_sum = calculate_k2_sums(projects_financial_data_grouped, month0, month1, prolongation_month)\n",
    "        \n",
    "        k2_up_sum_year += k2_up_sum\n",
    "        k2_down_sum_year += k2_down_sum\n",
    "        \n",
    "        if k2_down_sum > 0:\n",
    "            k2 = k2_up_sum / k2_down_sum\n",
    "        else:\n",
    "            k2 = 0\n",
    "            \n",
    "        if manager not in managers_prolongations:\n",
    "            managers_prolongations[manager] = {}\n",
    "        if prolongation_month not in managers_prolongations[manager]:\n",
    "            managers_prolongations[manager][prolongation_month] = {}\n",
    "        managers_prolongations[manager][prolongation_month]['k2'] = k2\n",
    "        \n",
    "        \n",
    "        # СЧИТАЕМ ПРОЕКТЫ, ЗАВЕРШЕННЫЕ В МЕСЯЦЕ 1 (КОЭФФИЦИЕНТ K1)\n",
    "        projects_financial_data_grouped = process_financial_data(month1_completed_projects, financial_data, prolongation_month_index)\n",
    "        \n",
    "        k1_up_sum, k1_down_sum = calculate_k1_sums(projects_financial_data_grouped, month1, prolongation_month)\n",
    "                \n",
    "        k1_up_sum_year += k1_up_sum\n",
    "        k1_down_sum_year += k1_down_sum\n",
    "                \n",
    "        if k1_down_sum > 0:\n",
    "            k1 = k1_up_sum / k1_down_sum\n",
    "        else:\n",
    "            k1 = 0\n",
    "            \n",
    "        managers_prolongations[manager][prolongation_month]['k1'] = k1\n",
    "    \n",
    "    \n",
    "    # k1 и k2 за год:\n",
    "    if k2_down_sum_year > 0:\n",
    "        k2 = k2_up_sum_year / k2_down_sum_year\n",
    "    else:\n",
    "        k2 = 0\n",
    "\n",
    "    if k1_down_sum_year > 0:\n",
    "        k1 = k1_up_sum_year / k1_down_sum_year\n",
    "    else:\n",
    "        k1 = 0\n",
    "\n",
    "    managers_prolongations[manager][\"year\"] = {}\n",
    "    managers_prolongations[manager][\"year\"][\"k1\"] = k1\n",
    "    managers_prolongations[manager][\"year\"][\"k2\"] = k2"
   ],
   "id": "769a3c52b86133eb",
   "outputs": [],
   "execution_count": 92
  },
  {
   "metadata": {
    "ExecuteTime": {
     "end_time": "2025-04-06T19:05:01.955063Z",
     "start_time": "2025-04-06T19:05:01.491063Z"
    }
   },
   "cell_type": "code",
   "source": [
    "# мы посчитали коэффициенты пролонгации для каждого менеджера за каждый месяц и за год\n",
    "# для всего отдела в целом также посчитаем коэффициенты пролонгации за каждый месяц и за год:\n",
    "\n",
    "department_prolongations = {}\n",
    "\n",
    "k1_up_sum_year = 0\n",
    "k1_down_sum_year = 0\n",
    "k2_up_sum_year = 0\n",
    "k2_down_sum_year = 0\n",
    "\n",
    "for prolongation_month in months_to_calc_prolongation:\n",
    "    prolongation_month_index = all_months.index(prolongation_month)\n",
    "    month0_index = all_months.index(prolongation_month) - 2\n",
    "    month1_index = all_months.index(prolongation_month) - 1\n",
    "    month0 = all_months[month0_index]\n",
    "    month1 = all_months[month1_index]\n",
    "\n",
    "    department_completed_projects = prolongations\n",
    "    \n",
    "    month0_completed_projects = department_completed_projects[department_completed_projects['month'] == month0]\n",
    "    month1_completed_projects = department_completed_projects[department_completed_projects['month'] == month1]\n",
    "    \n",
    "    \n",
    "    # СЧИТАЕМ ПРОЕКТЫ, ЗАВЕРШЕННЫЕ В МЕСЯЦЕ 0 (КОЭФФИЦИЕНТ K2)\n",
    "    projects_financial_data_grouped = process_financial_data(month0_completed_projects, financial_data, prolongation_month_index)\n",
    "    \n",
    "    k2_up_sum, k2_down_sum = calculate_k2_sums(projects_financial_data_grouped, month0, month1, prolongation_month)\n",
    "            \n",
    "    k2_up_sum_year += k2_up_sum\n",
    "    k2_down_sum_year += k2_down_sum\n",
    "    \n",
    "    if k2_down_sum > 0:\n",
    "        k2 = k2_up_sum / k2_down_sum\n",
    "    else:\n",
    "        k2 = 0\n",
    "    \n",
    "    if prolongation_month not in department_prolongations:\n",
    "        department_prolongations[prolongation_month] = {}\n",
    "    department_prolongations[prolongation_month]['k2'] = k2\n",
    "    \n",
    "    \n",
    "    # СЧИТАЕМ ПРОЕКТЫ, ЗАВЕРШЕННЫЕ В МЕСЯЦЕ 1 (КОЭФФИЦИЕНТ K1)\n",
    "    projects_financial_data_grouped = process_financial_data(month1_completed_projects, financial_data, prolongation_month_index)\n",
    "    \n",
    "    k1_up_sum, k1_down_sum = calculate_k1_sums(projects_financial_data_grouped, month1, prolongation_month)\n",
    "            \n",
    "    k1_up_sum_year += k1_up_sum\n",
    "    k1_down_sum_year += k1_down_sum\n",
    "    \n",
    "    if k1_down_sum > 0:\n",
    "        k1 = k1_up_sum / k1_down_sum\n",
    "    else:\n",
    "        k1 = 0\n",
    "        \n",
    "    department_prolongations[prolongation_month]['k1'] = k1\n",
    "    \n",
    "# также, за год:\n",
    "if k2_down_sum_year > 0:\n",
    "    k2 = k2_up_sum_year / k2_down_sum_year\n",
    "else:\n",
    "    k2 = 0\n",
    "    \n",
    "if k1_down_sum_year > 0:\n",
    "    k1 = k1_up_sum_year / k1_down_sum_year\n",
    "else:\n",
    "    k1 = 0\n",
    "\n",
    "if \"year\" not in department_prolongations:\n",
    "    department_prolongations[\"year\"] = {}\n",
    "department_prolongations[\"year\"][\"k1\"] = k1\n",
    "department_prolongations[\"year\"][\"k2\"] = k2"
   ],
   "id": "6e2b61f6dbd02c46",
   "outputs": [],
   "execution_count": 93
  },
  {
   "metadata": {
    "ExecuteTime": {
     "end_time": "2025-04-06T19:05:02.074468Z",
     "start_time": "2025-04-06T19:05:02.028357Z"
    }
   },
   "cell_type": "code",
   "source": [
    "import xlsxwriter\n",
    "import os\n",
    "\n",
    "if not os.path.exists('results'):\n",
    "    os.makedirs('results')\n",
    "workbook = xlsxwriter.Workbook('results/prolongations_report.xlsx')\n",
    "\n",
    "managers_sheet_months = workbook.add_worksheet('Managers_months')\n",
    "managers_sheet_year = workbook.add_worksheet('Managers_year')\n",
    "department_sheet = workbook.add_worksheet('Department')\n",
    "\n",
    "managers_sheet_months.write(0, 0, \"Менеджер\")\n",
    "managers_sheet_months.write(0, 1, \"Месяц\")\n",
    "managers_sheet_months.write(0, 2, \"K1\")\n",
    "managers_sheet_months.write(0, 3, \"K2\")\n",
    "\n",
    "row = 1\n",
    "for manager, prolongations in managers_prolongations.items():\n",
    "    for month, values in prolongations.items():\n",
    "        if month == \"year\":\n",
    "            continue\n",
    "        managers_sheet_months.write(row, 0, manager)\n",
    "        managers_sheet_months.write(row, 1, month)\n",
    "        managers_sheet_months.write(row, 2, values['k1'])\n",
    "        managers_sheet_months.write(row, 3, values['k2'])\n",
    "        row += 1\n",
    "    \n",
    "managers_sheet_year.write(0, 0, \"Менеджер\")\n",
    "managers_sheet_year.write(0, 1, \"Год\")\n",
    "managers_sheet_year.write(0, 2, \"K1\")\n",
    "managers_sheet_year.write(0, 3, \"K2\")\n",
    "\n",
    "row = 1\n",
    "for manager, prolongations in managers_prolongations.items():\n",
    "    managers_sheet_year.write(row, 0, manager)\n",
    "    managers_sheet_year.write(row, 1, \"2023 год\")\n",
    "    managers_sheet_year.write(row, 2, prolongations['year']['k1'])\n",
    "    managers_sheet_year.write(row, 3, prolongations['year']['k2'])\n",
    "    row += 1\n",
    "    \n",
    "department_sheet.write(0, 0, \"Месяц\")\n",
    "department_sheet.write(0, 1, \"K1\")\n",
    "department_sheet.write(0, 2, \"K2\")\n",
    "row = 1\n",
    "for month, values in department_prolongations.items():\n",
    "    if month == \"year\":\n",
    "        continue\n",
    "    department_sheet.write(row, 0, month)\n",
    "    department_sheet.write(row, 1, values['k1'])\n",
    "    department_sheet.write(row, 2, values['k2'])\n",
    "    row += 1\n",
    "\n",
    "department_sheet.write(row, 0, \"2023 год\")\n",
    "department_sheet.write(row, 1, department_prolongations['year']['k1'])\n",
    "department_sheet.write(row, 2, department_prolongations['year']['k2'])\n",
    "workbook.close()"
   ],
   "id": "917182aecd71ab4a",
   "outputs": [],
   "execution_count": 94
  }
 ],
 "metadata": {
  "kernelspec": {
   "display_name": "Python 3",
   "language": "python",
   "name": "python3"
  },
  "language_info": {
   "codemirror_mode": {
    "name": "ipython",
    "version": 2
   },
   "file_extension": ".py",
   "mimetype": "text/x-python",
   "name": "python",
   "nbconvert_exporter": "python",
   "pygments_lexer": "ipython2",
   "version": "2.7.6"
  }
 },
 "nbformat": 4,
 "nbformat_minor": 5
}
